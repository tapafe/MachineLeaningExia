{
 "cells": [
  {
   "cell_type": "code",
   "execution_count": 1,
   "metadata": {},
   "outputs": [],
   "source": [
    "import imageio\n",
    "import matplotlib.pyplot as plt\n",
    "import numpy as np\n",
    "import scipy\n",
    "import os\n",
    "from scipy import misc\n",
    "from skimage.io import imread_collection, imsave\n",
    "from skimage import *\n",
    "import cv2\n",
    "from skimage.restoration import estimate_sigma\n",
    "\n",
    "#creating a collection with the available images\n",
    "noisy = imread_collection('dataset/Noisy/*.jpg')\n",
    "blurry = imread_collection('dataset/Blurry/*.jpg')"
   ]
  },
  {
   "cell_type": "code",
   "execution_count": null,
   "metadata": {},
   "outputs": [],
   "source": [
    "def rgb2gray(rgb):\n",
    "\n",
    "    r, g, b = rgb[:,:,0], rgb[:,:,1], rgb[:,:,2]\n",
    "    gray = 0.2989 * r + 0.5870 * g + 0.1140 * b\n",
    "\n",
    "    return gray\n",
    "\n",
    "def singleChannel(image, sig, vrange):\n",
    "    blurred = ndimage.gaussian_filter(image, sigma=sig, mode='reflect')\n",
    "    result = image + (image - blurred) * 1\n",
    "    if vrange is not None:\n",
    "        return np.clip(result, vrange[0], vrange[1], out=result)\n",
    "    return result\n",
    "\n",
    "\n",
    "def splitColor(image):\n",
    "    red = image[:, :, 0]\n",
    "    green = image[:, :, 1]\n",
    "    blue = image[:, :, 2]\n",
    "    return(red, green, blue)\n",
    "\n",
    "\n",
    "def noisyTreatment(layers):\n",
    "    arr = []\n",
    "    k = np.array([[0,0,0],[0,1,0],[0,0,0]])\n",
    "    k2 = np.array([[-1,-1,-1],[-1,9,-1],[-1,-1,-1]])\n",
    "    for layer in layers:\n",
    "        gauss_denoised = ndimage.gaussian_filter(layer, sigma=2.5)\n",
    "        layerFlou = scipy.ndimage.convolve(gauss_denoised, k)\n",
    "        result = layer + (layer - layerFlou) * 1\n",
    "        arr.append(result)\n",
    "\n",
    "    return np.dstack((arr[0], arr[1], arr[2]))\n",
    "\n",
    "from skimage.filters import unsharp_mask\n",
    "\n",
    "def process_noisy(collection):  \n",
    "    for file in range(len(collection)):\n",
    "        image = data.moon()\n",
    "        result = unsharp_mask(collection[file], radius=1, amount=1)\n",
    "        imsave('dataset/noisyEnd/' + collection.files[file][-7:-4] + '.jpg', img_as_ubyte(result))\n",
    "    return 1\n",
    "        \n",
    "def process_blurry(collection):  \n",
    "    for file in range(len(collection)):\n",
    "        image = data.moon()\n",
    "        result = unsharp_mask(collection[file], radius=1, amount=1)\n",
    "        imsave('dataset/blurryEnd/' + collection.files[file][-7:-4] + '.jpg', img_as_ubyte(result))\n",
    "    return 1\n"
   ]
  },
  {
   "cell_type": "code",
   "execution_count": 2,
   "metadata": {},
   "outputs": [],
   "source": [
    "#process_noisy(noisy)\n",
    "#process_blurry(blurry)"
   ]
  },
  {
   "cell_type": "code",
   "execution_count": 3,
   "metadata": {},
   "outputs": [
    {
     "name": "stdout",
     "output_type": "stream",
     "text": [
      "39.91\n"
     ]
    }
   ],
   "source": [
    "# Get the Denoised images\n",
    "noisyTreated = imread_collection('dataset/noisyEnd/*.jpg')\n",
    "\n",
    "def estimate_noise(listNoise, listDeNoise):\n",
    "    listSigmaNoise = []\n",
    "    listSigmaDenoise = []\n",
    "    # Get the noise sigma of each image then add it to the list\n",
    "    for imageNoise in listNoise:\n",
    "        sigmaNoise = estimate_sigma(imageNoise, multichannel=True, average_sigmas=True)\n",
    "        listSigmaNoise.append(sigmaNoise)\n",
    "    \n",
    "    # Calculation of the mean sigma of the noised images\n",
    "    totalSigmaNoise = sum(listSigmaNoise)\n",
    "    meanSigmaNoise = totalSigmaNoise/len(listNoise)\n",
    "    \n",
    "    # Same action here for denoised images\n",
    "    for imageDenoise in listDeNoise:\n",
    "        sigmaDenoise = estimate_sigma(imageDenoise, multichannel=True, average_sigmas=True)\n",
    "        listSigmaDenoise.append(sigmaDenoise)\n",
    "\n",
    "    totalSigmaDenoise = sum(listSigmaDenoise)\n",
    "    meanSigmaDenoise = totalSigmaDenoise/len(listDeNoise)\n",
    "\n",
    "    return(meanSigmaNoise,meanSigmaDenoise)\n",
    "\n",
    "# Calculation of the percentage difference between the sigma to obtain the performance index\n",
    "meanSigmaNoise,meanSigmaDenoise = estimate_noise(noisy,noisyTreated)\n",
    "performance_index_noisy = ((meanSigmaDenoise - meanSigmaNoise)/meanSigmaNoise)*100\n",
    "print(round(performance_index_noisy,2))"
   ]
  }
 ],
 "metadata": {
  "kernelspec": {
   "display_name": "Python 3",
   "language": "python",
   "name": "python3"
  },
  "language_info": {
   "codemirror_mode": {
    "name": "ipython",
    "version": 3
   },
   "file_extension": ".py",
   "mimetype": "text/x-python",
   "name": "python",
   "nbconvert_exporter": "python",
   "pygments_lexer": "ipython3",
   "version": "3.8.5"
  }
 },
 "nbformat": 4,
 "nbformat_minor": 4
}
