{
 "cells": [
  {
   "cell_type": "code",
   "execution_count": null,
   "metadata": {},
   "outputs": [],
   "source": [
    "import imageio\n",
    "import matplotlib.pyplot as plt\n",
    "import numpy as np\n",
    "import scipy\n",
    "import os\n",
    "from scipy import misc\n",
    "from skimage.io import imread_collection, imsave\n",
    "from skimage import *\n",
    "import cv2\n",
    "from skimage.restoration import estimate_sigma\n",
    "\n",
    "#creating a collection with the available images\n",
    "noisy = imread_collection('dataset/Noisy/*.jpg')\n",
    "blurry = imread_collection('dataset/Blurry/*.jpg')"
   ]
  },
  {
   "cell_type": "code",
   "execution_count": null,
   "metadata": {},
   "outputs": [],
   "source": [
    "#process_noisy(noisy)\n",
    "#process_blurry(blurry)"
   ]
  },
  {
   "cell_type": "code",
   "execution_count": null,
   "metadata": {},
   "outputs": [],
   "source": [
    "# Get the Denoised images\n",
    "noisyTreated = imread_collection('dataset/noisyEnd/*.jpg')\n",
    "\n",
    "def estimate_noise(listNoise, listDeNoise):\n",
    "    listSigmaNoise = []\n",
    "    listSigmaDenoise = []\n",
    "    # Get the noise sigma of each image then add it to the list\n",
    "    for imageNoise in listNoise:\n",
    "        sigmaNoise = estimate_sigma(imageNoise, multichannel=True, average_sigmas=True)\n",
    "        listSigmaNoise.append(sigmaNoise)\n",
    "    \n",
    "    # Calculation of the mean sigma of the noised images\n",
    "    totalSigmaNoise = sum(listSigmaNoise)\n",
    "    meanSigmaNoise = totalSigmaNoise/len(listNoise)\n",
    "    \n",
    "    # Same action here for denoised images\n",
    "    for imageDenoise in listDeNoise:\n",
    "        sigmaDenoise = estimate_sigma(imageDenoise, multichannel=True, average_sigmas=True)\n",
    "        listSigmaDenoise.append(sigmaDenoise)\n",
    "\n",
    "    totalSigmaDenoise = sum(listSigmaDenoise)\n",
    "    meanSigmaDenoise = totalSigmaDenoise/len(listDeNoise)\n",
    "\n",
    "    return(meanSigmaNoise,meanSigmaDenoise)\n",
    "\n",
    "# Calculation of the percentage difference between the sigma to obtain the performance index\n",
    "meanSigmaNoise,meanSigmaDenoise = estimate_noise(noisy,noisyTreated)\n",
    "performance_index_noisy = ((meanSigmaDenoise - meanSigmaNoise)/meanSigmaNoise)*100\n",
    "print(round(performance_index_noisy,2))"
   ]
  }
 ],
 "metadata": {
  "kernelspec": {
   "display_name": "Python 3",
   "language": "python",
   "name": "python3"
  },
  "language_info": {
   "codemirror_mode": {
    "name": "ipython",
    "version": 3
   },
   "file_extension": ".py",
   "mimetype": "text/x-python",
   "name": "python",
   "nbconvert_exporter": "python",
   "pygments_lexer": "ipython3",
   "version": "3.8.5"
  }
 },
 "nbformat": 4,
 "nbformat_minor": 4
}
