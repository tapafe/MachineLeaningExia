{
 "cells": [
  {
   "cell_type": "code",
   "execution_count": null,
   "metadata": {},
   "outputs": [],
   "source": [
    "from scipy import misc\n",
    "import imageio\n",
    "import matplotlib.pyplot as plt\n",
    "import numpy as np\n",
    "import scipy\n",
    "import os\n",
    "from skimage.io import imread_collection\n",
    "from scipy import ndimage\n",
    "\n",
    "\n",
    "#image path \n",
    "noisy_dir = 'Dataset/Noisy/*.jpg'\n",
    "\n",
    "#creating a collection with the available images\n",
    "noisy = imread_collection(noisy_dir)"
   ]
  },
  {
   "cell_type": "code",
   "execution_count": null,
   "metadata": {},
   "outputs": [],
   "source": [
    "# def rgb2gray(rgb):\n",
    "\n",
    "#     r, g, b = rgb[:,:,0], rgb[:,:,1], rgb[:,:,2]\n",
    "#     gray = 0.2989 * r + 0.5870 * g + 0.1140 * b\n",
    "\n",
    "#     return gray\n",
    "\n",
    "#application of the Gaussian filter\n",
    "def noisyTreatment(image):\n",
    "    sigmaV = 2\n",
    "    k = np.array([[0,0,0],[0,1,0],[0,0,0]])\n",
    "    \n",
    "    red = image[:, :, 0]\n",
    "    gauss_denoised_red = ndimage.gaussian_filter(red, sigmaV)\n",
    "    fred = scipy.ndimage.convolve(gauss_denoised_red, k, mode='constant', cval=0.0)\n",
    "    laplace_sharpening_red = ndimage.laplace(fred)\n",
    "    resultRed = red - laplace_sharpening_red\n",
    "    \n",
    "    \n",
    "    green = image[:, :, 1]\n",
    "    gauss_denoised_green = ndimage.gaussian_filter(green, sigmaV)\n",
    "    fgreen = scipy.ndimage.convolve(gauss_denoised_green, k, mode='constant', cval=0.0)\n",
    "    laplace_sharpening_green = ndimage.laplace(fgreen)\n",
    "    resultGreen = green - laplace_sharpening_green\n",
    "\n",
    "    blue = image[:, :, 2]\n",
    "    gauss_denoised_blue = ndimage.gaussian_filter(blue, sigmaV)\n",
    "    fblue = scipy.ndimage.convolve(gauss_denoised_blue, k, mode='constant', cval=0.0)\n",
    "    laplace_sharpening_blue = ndimage.laplace(fblue)\n",
    "    resultBlue = blue - laplace_sharpening_blue\n",
    "    \n",
    "    return np.dstack((resultRed, resultGreen, resultBlue))\n",
    "\n",
    "#Laplacian\n",
    "# def laplacianOperation(image):\n",
    "#     red = image[:, :, 0]\n",
    "#     fred = scipy.ndimage.convolve(laplace_sharpening_red, k, mode='constant', cval=0.0)\n",
    "\n",
    "#     green = image[:, :, 1]\n",
    "#     fgreen = scipy.ndimage.convolve(laplace_sharpening_green, k, mode='constant', cval=0.0)\n",
    "\n",
    "#     blue = image[:, :, 2]\n",
    "#     fblue = scipy.ndimage.convolve(laplace_sharpening_blue, k, mode='constant', cval=0.0)\n",
    "\n",
    "#     return np.dstack((fred, fgreen, fblue))"
   ]
  },
  {
   "cell_type": "code",
   "execution_count": null,
   "metadata": {},
   "outputs": [],
   "source": [
    "#plt.figure(figsize=(18, 6))\n",
    "#plt.axis('off')\n",
    "#noisy[0]"
   ]
  },
  {
   "cell_type": "code",
   "execution_count": null,
   "metadata": {},
   "outputs": [],
   "source": [
    "image = noisyTreatment(noisy[1])\n",
    "image2 = ndimage.median_filter(noisy[1],size=20)\n",
    "plt.figure(figsize=(18, 6))\n",
    "plt.axis('off')\n",
    "plt.imshow(image1)\n",
    "plt.show()\n"
   ]
  },
  {
   "cell_type": "code",
   "execution_count": null,
   "metadata": {},
   "outputs": [],
   "source": [
    "# k = np.array([[0,0,0],[0,1,0],[0,0,0]])\n",
    "\n",
    "# laplacianImage = laplacianOperation(image)\n",
    "# plt.figure(figsize=(18, 6))\n",
    "# plt.axis('off')\n",
    "\n",
    "# plt.imshow(laplacianImage)\n",
    "\n",
    "# sharpenedImage = noisy[1] - laplacianImage\n",
    "# plt.imshow(sharpenedImage)\n",
    "# plt.show()\n"
   ]
  }
 ],
 "metadata": {
  "kernelspec": {
   "display_name": "Python 3",
   "language": "python",
   "name": "python3"
  },
  "language_info": {
   "codemirror_mode": {
    "name": "ipython",
    "version": 3
   },
   "file_extension": ".py",
   "mimetype": "text/x-python",
   "name": "python",
   "nbconvert_exporter": "python",
   "pygments_lexer": "ipython3",
   "version": "3.7.3"
  }
 },
 "nbformat": 4,
 "nbformat_minor": 4
}
